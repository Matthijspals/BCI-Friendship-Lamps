{
 "cells": [
  {
   "cell_type": "code",
   "execution_count": 3,
   "metadata": {},
   "outputs": [],
   "source": [
    "from asr import ASR\n",
    "import mne"
   ]
  },
  {
   "cell_type": "code",
   "execution_count": null,
   "metadata": {},
   "outputs": [],
   "source": [
    "#LOADING DATA\n",
    "#---------------\n",
    "#Get data path\n",
    "data_path = os.getcwd()+'/data/'\n",
    "data_file = \"\"\n",
    "sfreq = 250 #Set sampling frequency\n",
    "n_channels = 8   #Set amount of channels\n",
    "\n",
    "\n",
    "mat_fname = os.path.join(data_path, 'data_file')\n",
    "berlin = sio.loadmat(mat_fname) \n",
    "\n",
    "ch_names = ['Fz', 'C3', 'Cz', 'C4', 'Pz', 'PO7', 'Oz', 'O8']\n",
    "sfreq=100\n",
    "info = mne.create_info(ch_names=ch_names, sfreq=sfreq, ch_types='eeg')\n",
    "raw = mne.io.RawArray(data, info)  "
   ]
  },
  {
   "cell_type": "code",
   "execution_count": null,
   "metadata": {},
   "outputs": [],
   "source": [
    "#plot raw data\n",
    "plt.figure(figsize=(20,5))\n",
    "plt.plot(raw.get_data().T);"
   ]
  },
  {
   "cell_type": "code",
   "execution_count": null,
   "metadata": {},
   "outputs": [],
   "source": [
    "#PREPROCESSING\n",
    "#---------------"
   ]
  },
  {
   "cell_type": "code",
   "execution_count": null,
   "metadata": {},
   "outputs": [],
   "source": [
    "#apply bandpass filter\n",
    "raw.filter(0.5, 100, fir_design='firwin')"
   ]
  },
  {
   "cell_type": "code",
   "execution_count": null,
   "metadata": {},
   "outputs": [],
   "source": [
    "#plot filtered data\n",
    "plt.figure(figsize=(20,5))\n",
    "plt.plot(raw.get_data().T);"
   ]
  },
  {
   "cell_type": "code",
   "execution_count": null,
   "metadata": {},
   "outputs": [],
   "source": [
    "#initialize Artifact Subspace Reconstruction\n",
    "asr = ASR()"
   ]
  },
  {
   "cell_type": "code",
   "execution_count": null,
   "metadata": {},
   "outputs": [],
   "source": [
    "#plot calibration data\n",
    "x_c = asr.clean_windows(raw)\n",
    "plt.figure(figsize=(20,5))\n",
    "plt.plot(x_c.T);"
   ]
  },
  {
   "cell_type": "code",
   "execution_count": null,
   "metadata": {},
   "outputs": [],
   "source": [
    "# clean up signal and plot - reconstruct parts with high amplitude noise such as eyeblinks\n",
    "asr.calibrate()\n",
    "out = asr.clean(raw)\n",
    "plt.figure(figsize=(20,5))\n",
    "plt.plot(out.T);"
   ]
  },
  {
   "cell_type": "code",
   "execution_count": null,
   "metadata": {},
   "outputs": [],
   "source": [
    "#FEATURE EXTRACTION\n",
    "#---------------"
   ]
  },
  {
   "cell_type": "code",
   "execution_count": null,
   "metadata": {},
   "outputs": [],
   "source": [
    "#CLASSIFICATION\n",
    "#---------------"
   ]
  }
 ],
 "metadata": {
  "kernelspec": {
   "display_name": "Python 3.8.3 64-bit ('cybathlon': conda)",
   "language": "python",
   "name": "python38364bitcybathloncondac28194db8dca48d6b0afc2c4ba5f8a6a"
  },
  "language_info": {
   "codemirror_mode": {
    "name": "ipython",
    "version": 3
   },
   "file_extension": ".py",
   "mimetype": "text/x-python",
   "name": "python",
   "nbconvert_exporter": "python",
   "pygments_lexer": "ipython3",
   "version": "3.8.3"
  }
 },
 "nbformat": 4,
 "nbformat_minor": 4
}
