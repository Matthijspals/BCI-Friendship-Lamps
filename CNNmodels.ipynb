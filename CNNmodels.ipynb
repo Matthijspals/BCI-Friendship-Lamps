{
 "cells": [
  {
   "cell_type": "code",
   "execution_count": 10,
   "metadata": {},
   "outputs": [],
   "source": [
    "import torch\n",
    "from torch.nn import functional as F\n",
    "import torch.optim as optim\n",
    "from torchvision.utils import save_image\n",
    "import torch.utils.data as data_utils\n",
    "import torch.nn as nn\n",
    "import numpy as np\n",
    "import torchaudio\n",
    "import mne"
   ]
  },
  {
   "cell_type": "code",
   "execution_count": 160,
   "metadata": {},
   "outputs": [],
   "source": [
    "class STFT_CNN(nn.Module):\n",
    "    def __init__(self, channel_dim, class_num ):\n",
    "\n",
    "        \n",
    "        super(STFT_CNN, self).__init__()\n",
    "        \n",
    "        self.specgram = torchaudio.transforms.Spectrogram(normalized = True, n_fft = 128, win_length = 128, hop_length = 16)\n",
    "        # Input shape: N,C,H, W\n",
    "        self.conv1 = nn.Conv2d(in_channels = 2, out_channels = 24, kernel_size = 12, padding = 2)\n",
    "        self.conv2 = nn.Conv2d(in_channels = 24, out_channels = 48, kernel_size = 4, padding = 2)\n",
    "        self.conv3 = nn.Conv2d(in_channels = 48, out_channels = 48, kernel_size = 4)\n",
    "        self.batchnorm1 = nn.BatchNorm2d(num_features = 24)\n",
    "        self.batchnorm2 = nn.BatchNorm2d(num_features = 48)\n",
    "        self.batchnorm3 = nn.BatchNorm2d(num_features = 48)\n",
    "        self.relu = nn.ReLU()\n",
    "        self.pooling = nn.MaxPool2d(2)\n",
    "        self.fc = nn.Linear(4032, class_num)\n",
    "        self.softmax = nn.Softmax()\n",
    "        self.dropout = nn.Dropout(0.3)\n",
    "        \n",
    "\n",
    "        self.conv_block1 = nn.Sequential(self.conv1, self.batchnorm1, self.relu, self.pooling)\n",
    "        self.conv_block2 = nn.Sequential(self.conv2, self.batchnorm2, self.relu, self.pooling)\n",
    "        self.conv_block3 = nn.Sequential(self.conv3, self.batchnorm3, self.relu, self.pooling, self.dropout)\n",
    "        \n",
    "    def forward(self, x):\n",
    "        spec = self.specgram(x).float()\n",
    "        h1 = self.conv_block1(spec)\n",
    "        h2 = self.conv_block2(h1)\n",
    "        h3 = self.conv_block3(h2)\n",
    "        h = h3.flatten()\n",
    "        print(h.shape)\n",
    "        out = self.softmax(self.fc(h))\n",
    "        \n",
    "        return out\n",
    "    \n",
    "\n",
    "##Input shape:    \n",
    "        \n",
    "class EEGNet(nn.Module):\n",
    "    def __init__(self, timepoints, class_num):\n",
    "        # Input shape: N,C,T,1\n",
    "        \n",
    "        super(EEGNet, self).__init__()\n",
    "        \n",
    "        self.conv1 = nn.Conv2d(1, 16, (1, 64), padding = 0)\n",
    "        self.batchnorm1 = nn.BatchNorm2d(16, False)\n",
    "        self.elu = nn.ELU()\n",
    "        self.padding1 = nn.ZeroPad2d((16, 17, 0, 1))\n",
    "        self.conv2 = nn.Conv2d(1, 4, (2, 32))\n",
    "        self.batchnorm2 = nn.BatchNorm2d(4, False)\n",
    "        self.pooling2 = nn.MaxPool2d(2, 4)\n",
    "        \n",
    "        self.dropout = nn.Dropout(0.25)\n",
    "        self.padding2 = nn.ZeroPad2d((2, 1, 4, 3))\n",
    "        self.conv3 = nn.Conv2d(4, 4, (8, 4))\n",
    "        self.batchnorm3 = nn.BatchNorm2d(4, False)\n",
    "        self.pooling3 = nn.MaxPool2d((2, 4))\n",
    "        self.softmax = nn.Softmax()\n",
    "        \n",
    "        self.fc1 = nn.Linear(4*2*7, class_num)\n",
    "        \n",
    "        conv_block1 = nn.Sequential(self.conv1, self.elu, self.batchnorm1, self.dropout)\n",
    "        conv_block2 = nn.Sequential(self.padding1, self.conv2, self.elu, self.batchnorm2, self.dropout, self.pooling2)\n",
    "        conv_block3 = nn.Sequential(self.padding2, self.conv3, self.elu, self.batchnorm3, self.dropout, self.pooling3)\n",
    "        \n",
    "        \n",
    "\n",
    "    def forward(self, x):\n",
    "        h1 = conv_block1(x)\n",
    "        h1 = h1.permute(0, 3, 1, 2)\n",
    "        h2 = conv_block2(h1)\n",
    "        h3 = conv_block3(h2)\n",
    "        out = self.softmax(self.fc1(h3))\n",
    "        return out\n",
    "        \n",
    "        \n",
    "        "
   ]
  },
  {
   "cell_type": "markdown",
   "metadata": {},
   "source": [
    "Here we call sample eeg file using mne and check if the model runs"
   ]
  },
  {
   "cell_type": "code",
   "execution_count": 13,
   "metadata": {},
   "outputs": [
    {
     "name": "stdout",
     "output_type": "stream",
     "text": [
      "Extracting EDF parameters from /Users/jin/Desktop/20S/Hackathon/A03T.gdf...\n",
      "GDF file detected\n",
      "Setting channel info structure...\n",
      "Creating raw.info structure...\n",
      "Reading 0 ... 660529  =      0.000 ...  2642.116 secs...\n"
     ]
    },
    {
     "name": "stderr",
     "output_type": "stream",
     "text": [
      "<ipython-input-13-0c389fb6e6d6>:1: DeprecationWarning: The use of read_raw_edf for GDF files is deprecated. Please use read_raw_gdf instead.\n",
      "  subject_data = mne.io.read_raw_edf('./A03T.gdf', preload=True)\n",
      "/Users/jin/anaconda3/envs/bci/lib/python3.7/site-packages/mne/io/edf/edf.py:996: DeprecationWarning: The binary mode of fromstring is deprecated, as it behaves surprisingly on unicode inputs. Use frombuffer instead\n",
      "  etmode = np.fromstring(etmode, np.uint8).tolist()[0]\n",
      "<ipython-input-13-0c389fb6e6d6>:1: RuntimeWarning: Channel names are not unique, found duplicates for: {'EEG'}. Applying running numbers for duplicates.\n",
      "  subject_data = mne.io.read_raw_edf('./A03T.gdf', preload=True)\n"
     ]
    },
    {
     "name": "stdout",
     "output_type": "stream",
     "text": [
      "Used Annotations descriptions: ['1023', '1072', '276', '277', '32766', '768', '769', '770', '771', '772']\n"
     ]
    }
   ],
   "source": [
    "subject_data = mne.io.read_raw_edf('./A03T.gdf', preload=True)\n",
    "event = mne.events_from_annotations(subject_data)"
   ]
  },
  {
   "cell_type": "code",
   "execution_count": 32,
   "metadata": {},
   "outputs": [],
   "source": [
    "tz = subject_data['EEG-Cz'][1]\n",
    "t3 = subject_data['EEG-C3'][1]\n",
    "signalz = subject_data['EEG-Cz'][0].reshape(-1)\n",
    "signal3 = subject_data['EEG-C3'][0].reshape(-1)"
   ]
  },
  {
   "cell_type": "code",
   "execution_count": 33,
   "metadata": {},
   "outputs": [],
   "source": [
    "segment1_cz = [tz[:250*5],signalz[:250*5]]\n",
    "segment2_cz = [tz[250*5:250*10],signalz[250*5:250*10]]\n",
    "segment1_c3 = [t3[:250*5],signal3[:250*5]]\n",
    "segment2_c3 = [t3[250*5:250*10],signal3[250*5:250*10]]"
   ]
  },
  {
   "cell_type": "raw",
   "metadata": {},
   "source": [
    "feed_stft = torch.tensor([[signalz[:250*5], signal3[:250*5]],[signalz[250*5:250*10], signal3[250*5:250*10]]], dtype = torch.double)"
   ]
  },
  {
   "cell_type": "code",
   "execution_count": 154,
   "metadata": {},
   "outputs": [],
   "source": [
    "stft_model = STFT_CNN(channel_dim = 2, class_num = 2)"
   ]
  },
  {
   "cell_type": "code",
   "execution_count": 155,
   "metadata": {},
   "outputs": [
    {
     "name": "stdout",
     "output_type": "stream",
     "text": [
      "torch.Size([4032])\n"
     ]
    },
    {
     "name": "stderr",
     "output_type": "stream",
     "text": [
      "/Users/jin/anaconda3/envs/bci/lib/python3.7/site-packages/ipykernel_launcher.py:33: UserWarning: Implicit dimension choice for softmax has been deprecated. Change the call to include dim=X as an argument.\n"
     ]
    }
   ],
   "source": [
    "out = stft_model(feed_stft)"
   ]
  },
  {
   "cell_type": "code",
   "execution_count": 161,
   "metadata": {},
   "outputs": [],
   "source": [
    "EEGnet_model = EEGNet(1250,2)"
   ]
  },
  {
   "cell_type": "code",
   "execution_count": null,
   "metadata": {},
   "outputs": [],
   "source": []
  }
 ],
 "metadata": {
  "kernelspec": {
   "display_name": "Python 3",
   "language": "python",
   "name": "python3"
  },
  "language_info": {
   "codemirror_mode": {
    "name": "ipython",
    "version": 3
   },
   "file_extension": ".py",
   "mimetype": "text/x-python",
   "name": "python",
   "nbconvert_exporter": "python",
   "pygments_lexer": "ipython3",
   "version": "3.7.6"
  }
 },
 "nbformat": 4,
 "nbformat_minor": 2
}
