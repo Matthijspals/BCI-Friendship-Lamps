{
 "cells": [
  {
   "cell_type": "code",
   "execution_count": 1,
   "metadata": {},
   "outputs": [],
   "source": [
    "import socket\n",
    "import threading"
   ]
  },
  {
   "cell_type": "code",
   "execution_count": 13,
   "metadata": {},
   "outputs": [
    {
     "data": {
      "text/plain": [
       "'127.0.0.1'"
      ]
     },
     "execution_count": 13,
     "metadata": {},
     "output_type": "execute_result"
    }
   ],
   "source": [
    "socket.gethostbyname(socket.gethostname())"
   ]
  },
  {
   "cell_type": "markdown",
   "metadata": {},
   "source": [
    "# Use Below code blocks if you are the Sender"
   ]
  },
  {
   "cell_type": "code",
   "execution_count": 2,
   "metadata": {},
   "outputs": [],
   "source": [
    "HEADER = 64\n",
    "PORT = 5150\n",
    "FORMAT = 'utf-8'\n",
    "DISCONNECT_MESSAGE = \"quit\"\n",
    "RECIEVER = \"188.174.45.105\" # Public IP address of Jin ask her to enable port forwarding for 5150\n",
    "ADDR = (RECIEVER, PORT)\n",
    "\n",
    "client = socket.socket(socket.AF_INET, socket.SOCK_STREAM)\n",
    "client.connect(ADDR)\n",
    "\n",
    "def send_processed_result_of_unicorn(msg):\n",
    "    message = msg.encode(FORMAT)\n",
    "    msg_length = len(message)\n",
    "    send_length = str(msg_length).encode(FORMAT)\n",
    "    send_length += b' ' * (HEADER - len(send_length))\n",
    "    client.send(send_length)\n",
    "    client.send(message)\n",
    "    print(client.recv(2048).decode(FORMAT))"
   ]
  },
  {
   "cell_type": "code",
   "execution_count": 3,
   "metadata": {},
   "outputs": [],
   "source": [
    "classifiction_result = [\"Neeeiiiiigh\", \"I am not a pony with a horn glued to my head\", \"I know Harry Potter and he's a dick!\"]"
   ]
  },
  {
   "cell_type": "code",
   "execution_count": 4,
   "metadata": {},
   "outputs": [],
   "source": [
    "msg_to_send = classifiction_result[1]"
   ]
  },
  {
   "cell_type": "code",
   "execution_count": null,
   "metadata": {},
   "outputs": [
    {
     "name": "stdout",
     "output_type": "stream",
     "text": [
      "0\n",
      "Thanks for Letting me know how you feel\n",
      "1\n",
      "Thanks for Letting me know how you feel\n",
      "2\n",
      "Thanks for Letting me know how you feel\n"
     ]
    }
   ],
   "source": [
    "while True:\n",
    "    i = int(input())\n",
    "    send_processed_result_of_unicorn(classifiction_result[i])"
   ]
  },
  {
   "cell_type": "markdown",
   "metadata": {},
   "source": [
    "# Use Below code blocks if you are the Reciever"
   ]
  },
  {
   "cell_type": "code",
   "execution_count": null,
   "metadata": {},
   "outputs": [
    {
     "name": "stdout",
     "output_type": "stream",
     "text": [
      "[STARTING] server is starting...\n",
      "[LISTENING] Server is listening on 127.0.0.1\n"
     ]
    }
   ],
   "source": [
    "HEADER = 64\n",
    "PORT = 5150\n",
    "SERVER = \"127.0.0.1\"  ## find and enter your PUBLIC IP address, disable firewall if it doesn't work\n",
    "ADDR = (SERVER, PORT)\n",
    "FORMAT = 'utf-8'\n",
    "DISCONNECT_MESSAGE = \"quit\"\n",
    "\n",
    "server = socket.socket(socket.AF_INET, socket.SOCK_STREAM)\n",
    "server.bind(ADDR)\n",
    "\n",
    "def handle_client(conn, addr):\n",
    "    print(f\"[NEW CONNECTION] {addr} connected.\")\n",
    "    connected = True\n",
    "    while connected:\n",
    "        msg_length = conn.recv(HEADER).decode(FORMAT)\n",
    "        if msg_length:\n",
    "            msg_length = int(msg_length)\n",
    "            msg = conn.recv(msg_length).decode(FORMAT)\n",
    "            if msg == DISCONNECT_MESSAGE:\n",
    "                connected = False\n",
    "            \n",
    "            # store message in a pickle file for the philips hue to access\n",
    "            \n",
    "            print(f\"[{addr}] {msg}\")\n",
    "            conn.send(\"Thanks for Letting me know how you feel\".encode(FORMAT))\n",
    "\n",
    "    conn.close()\n",
    "        \n",
    "\n",
    "def recieve_messages_from_processod_unicorn():\n",
    "    server.listen()\n",
    "    print(f\"[LISTENING] Server is listening on {SERVER}\")\n",
    "    while True:\n",
    "        conn, addr = server.accept()\n",
    "        thread = threading.Thread(target=handle_client, args=(conn, addr))\n",
    "        thread.start()\n",
    "        print(f\"[ACTIVE CONNECTIONS] {threading.activeCount() - 1}\")\n",
    "\n",
    "\n",
    "print(\"[STARTING] server is starting...\")\n",
    "recieve_messages_from_processod_unicorn()"
   ]
  },
  {
   "cell_type": "markdown",
   "metadata": {},
   "source": [
    "# Change Lights based on values sent"
   ]
  },
  {
   "cell_type": "code",
   "execution_count": 8,
   "metadata": {},
   "outputs": [],
   "source": [
    "from phue import Bridge\n",
    "# https://github.com/studioimaginaire/phue"
   ]
  },
  {
   "cell_type": "code",
   "execution_count": null,
   "metadata": {},
   "outputs": [],
   "source": [
    "b = Bridge('ip_of_your_bridge') # Enter IP of your bridge\n",
    "# If the app is not registered and the button is not pressed, press the button and call connect() (this only needs to be run a single time)\n",
    "b.connect()"
   ]
  },
  {
   "cell_type": "code",
   "execution_count": null,
   "metadata": {},
   "outputs": [],
   "source": [
    "# Get the bridge state (This returns the full dictionary that you can explore)\n",
    "b.get_api()\n",
    "# find the parameter for color, brightness given below."
   ]
  },
  {
   "cell_type": "code",
   "execution_count": null,
   "metadata": {},
   "outputs": [],
   "source": [
    "# Turn lamp 1 on\n",
    "b.set_light(1,'on', True)"
   ]
  },
  {
   "cell_type": "code",
   "execution_count": null,
   "metadata": {},
   "outputs": [],
   "source": [
    "msg = 'happy'"
   ]
  },
  {
   "cell_type": "code",
   "execution_count": 9,
   "metadata": {
    "collapsed": true
   },
   "outputs": [
    {
     "ename": "NameError",
     "evalue": "name 'b' is not defined",
     "output_type": "error",
     "traceback": [
      "\u001b[0;31m---------------------------------------------------------------------------\u001b[0m",
      "\u001b[0;31mNameError\u001b[0m                                 Traceback (most recent call last)",
      "\u001b[0;32m<ipython-input-9-7be3a25578ee>\u001b[0m in \u001b[0;36m<module>\u001b[0;34m\u001b[0m\n\u001b[1;32m      1\u001b[0m \u001b[0;31m# Set brightness of lamp 1 to max\u001b[0m\u001b[0;34m\u001b[0m\u001b[0;34m\u001b[0m\u001b[0;34m\u001b[0m\u001b[0m\n\u001b[0;32m----> 2\u001b[0;31m \u001b[0mb\u001b[0m\u001b[0;34m.\u001b[0m\u001b[0mset_light\u001b[0m\u001b[0;34m(\u001b[0m\u001b[0;36m1\u001b[0m\u001b[0;34m,\u001b[0m \u001b[0;34m'bri'\u001b[0m\u001b[0;34m,\u001b[0m \u001b[0;36m254\u001b[0m\u001b[0;34m)\u001b[0m\u001b[0;34m\u001b[0m\u001b[0;34m\u001b[0m\u001b[0m\n\u001b[0m",
      "\u001b[0;31mNameError\u001b[0m: name 'b' is not defined"
     ]
    }
   ],
   "source": [
    "# Set brightness of lamp 1 based on mood message\n",
    "if msg == 'happy':\n",
    "    b.set_light(1, 'bri', 254)\n",
    "if msg == 'sad':\n",
    "    b.set_light(1, 'bri', 20)\n",
    "if msg == 'neutral':\n",
    "    b.set_light(1, 'bri', 100)"
   ]
  },
  {
   "cell_type": "code",
   "execution_count": null,
   "metadata": {},
   "outputs": [],
   "source": []
  }
 ],
 "metadata": {
  "kernelspec": {
   "display_name": "Python 3",
   "language": "python",
   "name": "python3"
  },
  "language_info": {
   "codemirror_mode": {
    "name": "ipython",
    "version": 3
   },
   "file_extension": ".py",
   "mimetype": "text/x-python",
   "name": "python",
   "nbconvert_exporter": "python",
   "pygments_lexer": "ipython3",
   "version": "3.7.4"
  }
 },
 "nbformat": 4,
 "nbformat_minor": 4
}
