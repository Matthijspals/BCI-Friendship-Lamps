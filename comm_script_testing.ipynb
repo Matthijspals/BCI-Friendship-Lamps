{
 "cells": [
  {
   "cell_type": "code",
   "execution_count": 1,
   "metadata": {},
   "outputs": [],
   "source": [
    "import socket\n",
    "import threading"
   ]
  },
  {
   "cell_type": "code",
   "execution_count": 2,
   "metadata": {},
   "outputs": [
    {
     "data": {
      "text/plain": [
       "'127.0.0.1'"
      ]
     },
     "execution_count": 2,
     "metadata": {},
     "output_type": "execute_result"
    }
   ],
   "source": [
    "socket.gethostbyname(socket.gethostname())"
   ]
  },
  {
   "cell_type": "markdown",
   "metadata": {},
   "source": [
    "# Use Below code blocks if you are the Sender"
   ]
  },
  {
   "cell_type": "code",
   "execution_count": 7,
   "metadata": {},
   "outputs": [],
   "source": [
    "HEADER = 64\n",
    "PORT = 5050\n",
    "FORMAT = 'utf-8'\n",
    "DISCONNECT_MESSAGE = \"quit\"\n",
    "RECIEVER = \"127.0.0.1\" # Public IP address of Client\n",
    "ADDR = (RECIEVER, PORT)\n",
    "\n",
    "client = socket.socket(socket.AF_INET, socket.SOCK_STREAM)\n",
    "client.connect(ADDR)\n",
    "\n",
    "def send_processed_result_of_unicorn(msg):\n",
    "    message = msg.encode(FORMAT)\n",
    "    msg_length = len(message)\n",
    "    send_length = str(msg_length).encode(FORMAT)\n",
    "    send_length += b' ' * (HEADER - len(send_length))\n",
    "    client.send(send_length)\n",
    "    client.send(message)\n",
    "    print(client.recv(2048).decode(FORMAT))"
   ]
  },
  {
   "cell_type": "code",
   "execution_count": 8,
   "metadata": {},
   "outputs": [],
   "source": [
    "classifiction_result = [\"Neeeiiiiigh\", \"I am not a pony with a horn glued to my head\", \"I know Harry Potter and he's a dick!\"]"
   ]
  },
  {
   "cell_type": "code",
   "execution_count": 9,
   "metadata": {},
   "outputs": [],
   "source": [
    "msg_to_send = classifiction_result[1]"
   ]
  },
  {
   "cell_type": "code",
   "execution_count": null,
   "metadata": {},
   "outputs": [
    {
     "name": "stdout",
     "output_type": "stream",
     "text": [
      "1\n",
      "Thanks for Letting me know how you feel\n",
      "2\n",
      "Thanks for Letting me know how you feel\n"
     ]
    }
   ],
   "source": [
    "while True:\n",
    "    i = int(input())\n",
    "    send_processed_result_of_unicorn(classifiction_result[i])"
   ]
  },
  {
   "cell_type": "markdown",
   "metadata": {},
   "source": [
    "# Use Below code blocks if you are the Reciever"
   ]
  },
  {
   "cell_type": "code",
   "execution_count": null,
   "metadata": {
    "collapsed": true
   },
   "outputs": [
    {
     "name": "stdout",
     "output_type": "stream",
     "text": [
      "[STARTING] server is starting...\n",
      "[LISTENING] Server is listening on 192.168.2.158\n"
     ]
    }
   ],
   "source": [
    "HEADER = 64\n",
    "PORT = 5050\n",
    "SERVER = socket.gethostbyname(socket.gethostname())  ## find and enter your PUBLIC IP address, disable firewall if it doesn't work\n",
    "ADDR = (SERVER, PORT)\n",
    "FORMAT = 'utf-8'\n",
    "DISCONNECT_MESSAGE = \"quit\"\n",
    "\n",
    "server = socket.socket(socket.AF_INET, socket.SOCK_STREAM)\n",
    "server.bind(ADDR)\n",
    "\n",
    "def handle_client(conn, addr):\n",
    "    print(f\"[NEW CONNECTION] {addr} connected.\")\n",
    "\n",
    "    connected = True\n",
    "    while connected:\n",
    "        msg_length = conn.recv(HEADER).decode(FORMAT)\n",
    "        if msg_length:\n",
    "            msg_length = int(msg_length)\n",
    "            msg = conn.recv(msg_length).decode(FORMAT)\n",
    "            if msg == DISCONNECT_MESSAGE:\n",
    "                connected = False\n",
    "\n",
    "            print(f\"[{addr}] {msg}\")\n",
    "            conn.send(\"Thanks for Letting me know how you feel\".encode(FORMAT))\n",
    "\n",
    "    conn.close()\n",
    "        \n",
    "\n",
    "def recieve_messages_from_processod_unicorn():\n",
    "    server.listen()\n",
    "    print(f\"[LISTENING] Server is listening on {SERVER}\")\n",
    "    while True:\n",
    "        conn, addr = server.accept()\n",
    "        thread = threading.Thread(target=handle_client, args=(conn, addr))\n",
    "        thread.start()\n",
    "        print(f\"[ACTIVE CONNECTIONS] {threading.activeCount() - 1}\")\n",
    "\n",
    "\n",
    "print(\"[STARTING] server is starting...\")\n",
    "recieve_messages_from_processod_unicorn()"
   ]
  },
  {
   "cell_type": "code",
   "execution_count": null,
   "metadata": {},
   "outputs": [],
   "source": []
  },
  {
   "cell_type": "code",
   "execution_count": null,
   "metadata": {},
   "outputs": [],
   "source": []
  }
 ],
 "metadata": {
  "kernelspec": {
   "display_name": "Python 3",
   "language": "python",
   "name": "python3"
  },
  "language_info": {
   "codemirror_mode": {
    "name": "ipython",
    "version": 3
   },
   "file_extension": ".py",
   "mimetype": "text/x-python",
   "name": "python",
   "nbconvert_exporter": "python",
   "pygments_lexer": "ipython3",
   "version": "3.7.4"
  }
 },
 "nbformat": 4,
 "nbformat_minor": 4
}
