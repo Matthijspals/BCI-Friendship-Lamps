{
 "cells": [
  {
   "cell_type": "code",
   "execution_count": 1,
   "metadata": {},
   "outputs": [],
   "source": [
    "from phue import Bridge\n",
    "import time\n",
    "import pickle"
   ]
  },
  {
   "cell_type": "code",
   "execution_count": 2,
   "metadata": {},
   "outputs": [
    {
     "data": {
      "text/plain": [
       "[[{'success': {'/lights/2/state/on': True}}]]"
      ]
     },
     "execution_count": 2,
     "metadata": {},
     "output_type": "execute_result"
    }
   ],
   "source": [
    "b = Bridge('192.168.178.20')\n",
    "b.connect()\n",
    "b.get_api()\n",
    "b.set_light(2,'on', True)\n"
   ]
  },
  {
   "cell_type": "code",
   "execution_count": null,
   "metadata": {},
   "outputs": [],
   "source": [
    "while True:\n",
    "    msg = pickle.load(open('./lightMSG_eric.pk', 'rb'))\n",
    "\n",
    "    # Set brightness of lamp 1 based on mood message\n",
    "    if msg == '0': ##purple\n",
    "        b.set_light(2, 'hue', 50000)\n",
    "        b.set_light(2, 'bri', 250)\n",
    "        b.set_light(2, 'sat', 250)\n",
    "    if msg == '1': ##blue\n",
    "        b.set_light(2, 'hue', 40000)\n",
    "        b.set_light(2, 'sat', 250)\n",
    "        b.set_light(2, 'bri', 200)\n",
    "    if msg == '2': ##white\n",
    "        b.set_light(2, 'hue', 40000)\n",
    "        b.set_light(2, 'sat', 0)\n",
    "        b.set_light(2, 'bri', 200)\n",
    "    \n",
    "    time.sleep(2)"
   ]
  },
  {
   "cell_type": "code",
   "execution_count": null,
   "metadata": {},
   "outputs": [],
   "source": []
  }
 ],
 "metadata": {
  "kernelspec": {
   "display_name": "Python 3",
   "language": "python",
   "name": "python3"
  },
  "language_info": {
   "codemirror_mode": {
    "name": "ipython",
    "version": 3
   },
   "file_extension": ".py",
   "mimetype": "text/x-python",
   "name": "python",
   "nbconvert_exporter": "python",
   "pygments_lexer": "ipython3",
   "version": "3.7.6"
  }
 },
 "nbformat": 4,
 "nbformat_minor": 2
}
