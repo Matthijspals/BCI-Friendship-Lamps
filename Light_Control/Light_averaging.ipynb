{
 "cells": [
  {
   "cell_type": "code",
   "execution_count": null,
   "metadata": {},
   "outputs": [],
   "source": [
    "from phue import Bridge\n",
    "import time\n",
    "import pickle"
   ]
  },
  {
   "cell_type": "code",
   "execution_count": null,
   "metadata": {},
   "outputs": [],
   "source": [
    "b = Bridge('192.168.178.20')\n",
    "b.connect()\n",
    "b.get_api()\n",
    "b.set_light(2,'on', True)\n"
   ]
  },
  {
   "cell_type": "code",
   "execution_count": null,
   "metadata": {},
   "outputs": [],
   "source": [
    "while True:\n",
    "    msg_eric = pickle.load(open('./lightMSG_Eric.pk', 'rb'))\n",
    "    msg_svea = pickle.load(open('./lightMSG_Svea.pk', 'rb'))\n",
    "    \n",
    "    if msg_eric == '0' and msg_svea == '0': ##blue, both are not happy\n",
    "        b.set_light(2, 'hue', 40000)\n",
    "        b.set_light(2, 'bri', 200)\n",
    "        b.set_light(2, 'sat', 250)\n",
    "    \n",
    "    if (msg_eric == '0' and msg_svea == '1') or (msg_eric == '1' and msg_svea == '0'): ##white,neutral\n",
    "        b.set_light(2, 'hue', 40000)\n",
    "        b.set_light(2, 'sat', 0)\n",
    "        b.set_light(2, 'bri', 200) \n",
    "    \n",
    "    if msg_eric == '1' and msg_svea == '1': ##purple, both are happy\n",
    "        b.set_light(2, 'hue', 50000)\n",
    "        b.set_light(2, 'bri', 250)\n",
    "        b.set_light(2, 'sat', 250)\n",
    "    \n",
    "    else:\n",
    "        pass\n",
    "    "
   ]
  },
  {
   "cell_type": "code",
   "execution_count": null,
   "metadata": {},
   "outputs": [],
   "source": []
  }
 ],
 "metadata": {
  "kernelspec": {
   "display_name": "Python 3",
   "language": "python",
   "name": "python3"
  },
  "language_info": {
   "codemirror_mode": {
    "name": "ipython",
    "version": 3
   },
   "file_extension": ".py",
   "mimetype": "text/x-python",
   "name": "python",
   "nbconvert_exporter": "python",
   "pygments_lexer": "ipython3",
   "version": "3.7.6"
  }
 },
 "nbformat": 4,
 "nbformat_minor": 2
}
